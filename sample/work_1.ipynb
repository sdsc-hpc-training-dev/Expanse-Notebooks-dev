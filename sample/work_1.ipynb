{
 "cells": [
  {
   "cell_type": "markdown",
   "id": "f83f6ad0-6827-465e-a8de-8603077b42bb",
   "metadata": {},
   "source": [
    "---\n",
    "type: GPU, Parallel\n",
    "required_modules:\n",
    "  - numpy\n",
    "  - cuda\n",
    "  - cupy\n",
    "  - pandas\n",
    "---"
   ]
  },
  {
   "cell_type": "code",
   "execution_count": null,
   "id": "dd6c0e95-ca0c-4dea-a4d3-0dd9f16307f8",
   "metadata": {},
   "outputs": [],
   "source": []
  },
  {
   "cell_type": "code",
   "execution_count": null,
   "id": "310a2afa-b363-46ca-be09-e93de8272a80",
   "metadata": {},
   "outputs": [],
   "source": []
  }
 ],
 "metadata": {
  "kernelspec": {
   "display_name": "Python 3",
   "language": "python",
   "name": "python3"
  },
  "language_info": {
   "codemirror_mode": {
    "name": "ipython",
    "version": 3
   },
   "file_extension": ".py",
   "mimetype": "text/x-python",
   "name": "python",
   "nbconvert_exporter": "python",
   "pygments_lexer": "ipython3",
   "version": "3.8.8"
  }
 },
 "nbformat": 4,
 "nbformat_minor": 5
}
