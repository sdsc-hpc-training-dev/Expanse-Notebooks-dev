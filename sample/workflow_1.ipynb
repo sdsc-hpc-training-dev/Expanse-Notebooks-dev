{
 "cells": [
  {
   "cell_type": "markdown",
   "id": "72d67ee0-466a-468b-97d5-73a0cb06f88f",
   "metadata": {},
   "source": [
    "---\n",
    "type: GPU, Parallel\n",
    "required_modules:\n",
    "  - numpy\n",
    "  - cuda\n",
    "  - cupy\n",
    "  - pandas\n",
    "---"
   ]
  },
  {
   "cell_type": "code",
   "execution_count": null,
   "id": "8431192a-40d8-4aef-993d-a221e99e6a20",
   "metadata": {},
   "outputs": [],
   "source": []
  }
 ],
 "metadata": {
  "kernelspec": {
   "display_name": "Python 3",
   "language": "python",
   "name": "python3"
  },
  "language_info": {
   "codemirror_mode": {
    "name": "ipython",
    "version": 3
   },
   "file_extension": ".py",
   "mimetype": "text/x-python",
   "name": "python",
   "nbconvert_exporter": "python",
   "pygments_lexer": "ipython3",
   "version": "3.8.8"
  }
 },
 "nbformat": 4,
 "nbformat_minor": 5
}
