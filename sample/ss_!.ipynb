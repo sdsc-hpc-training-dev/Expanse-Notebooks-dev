{
 "cells": [
  {
   "cell_type": "markdown",
   "id": "60cebdf5-5136-4c3c-9b69-395540972859",
   "metadata": {},
   "source": [
    "---\n",
    "type: GPU, Parallel\n",
    "\n",
    "required_modules:\n",
    "  - dask\n",
    "  - cupy\n",
    "  - dask.array\n",
    "  - array\n",
    "---"
   ]
  }
 ],
 "metadata": {
  "kernelspec": {
   "display_name": "Python 3",
   "language": "python",
   "name": "python3"
  },
  "language_info": {
   "codemirror_mode": {
    "name": "ipython",
    "version": 3
   },
   "file_extension": ".py",
   "mimetype": "text/x-python",
   "name": "python",
   "nbconvert_exporter": "python",
   "pygments_lexer": "ipython3",
   "version": "3.8.8"
  }
 },
 "nbformat": 4,
 "nbformat_minor": 5
}
