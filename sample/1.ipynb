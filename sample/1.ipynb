{
 "cells": [
  {
   "cell_type": "markdown",
   "id": "ee1c3910-d559-423b-9af8-3af45102c2f1",
   "metadata": {},
   "source": [
    "---\n",
    "type: GPU, Parallel\n",
    "\n",
    "required_modules:\n",
    "  - dask\n",
    "  - cupy\n",
    "  - dask.array\n",
    "  - array\n",
    "---"
   ]
  }
 ],
 "metadata": {
  "kernelspec": {
   "display_name": "Python 3",
   "language": "python",
   "name": "python3"
  },
  "language_info": {
   "codemirror_mode": {
    "name": "ipython",
    "version": 3
   },
   "file_extension": ".py",
   "mimetype": "text/x-python",
   "name": "python",
   "nbconvert_exporter": "python",
   "pygments_lexer": "ipython3",
   "version": "3.8.8"
  }
 },
 "nbformat": 4,
 "nbformat_minor": 5
}
