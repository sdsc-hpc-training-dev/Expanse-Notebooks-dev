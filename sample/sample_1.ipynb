{
 "cells": [
  {
   "cell_type": "markdown",
   "id": "c3069833-59d1-4ab1-885c-4e9e032590eb",
   "metadata": {},
   "source": [
    "---\n",
    "type: CPU, Serial\n",
    "\n",
    "---"
   ]
  },
  {
   "cell_type": "code",
   "execution_count": null,
   "id": "a8adb81d-751f-448c-8efb-f8270baad282",
   "metadata": {},
   "outputs": [],
   "source": []
  }
 ],
 "metadata": {
  "kernelspec": {
   "display_name": "Python 3",
   "language": "python",
   "name": "python3"
  },
  "language_info": {
   "codemirror_mode": {
    "name": "ipython",
    "version": 3
   },
   "file_extension": ".py",
   "mimetype": "text/x-python",
   "name": "python",
   "nbconvert_exporter": "python",
   "pygments_lexer": "ipython3",
   "version": "3.8.8"
  }
 },
 "nbformat": 4,
 "nbformat_minor": 5
}
