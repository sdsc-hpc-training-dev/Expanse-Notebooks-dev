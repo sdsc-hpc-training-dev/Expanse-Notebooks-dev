{
 "cells": [
  {
   "cell_type": "markdown",
   "id": "18c6ee67-2bfe-4ec4-8e6d-3b74e9db22b7",
   "metadata": {},
   "source": [
    "---\n",
    "type: CPU, Parallel\n",
    "required_modules:\n",
    "  - numpy\n",
    "  - tensorfow\n",
    "---"
   ]
  }
 ],
 "metadata": {
  "kernelspec": {
   "display_name": "Python 3",
   "language": "python",
   "name": "python3"
  },
  "language_info": {
   "codemirror_mode": {
    "name": "ipython",
    "version": 3
   },
   "file_extension": ".py",
   "mimetype": "text/x-python",
   "name": "python",
   "nbconvert_exporter": "python",
   "pygments_lexer": "ipython3",
   "version": "3.8.8"
  }
 },
 "nbformat": 4,
 "nbformat_minor": 5
}
