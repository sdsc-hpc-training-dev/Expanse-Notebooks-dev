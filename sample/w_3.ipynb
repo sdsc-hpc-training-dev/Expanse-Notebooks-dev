{
 "cells": [
  {
   "cell_type": "markdown",
   "id": "e6569620-d2d4-4414-914c-d28d7157d0ad",
   "metadata": {},
   "source": [
    "---\n",
    "type: CPU, GPU, Parallel\n",
    "\n",
    "required_modules:\n",
    "  - hello\n",
    "  - numpy\n",
    "  - git\n",
    "---\n"
   ]
  },
  {
   "cell_type": "code",
   "execution_count": null,
   "id": "79de5671-5821-4eab-980b-6c55993f293d",
   "metadata": {},
   "outputs": [],
   "source": []
  }
 ],
 "metadata": {
  "kernelspec": {
   "display_name": "Python 3",
   "language": "python",
   "name": "python3"
  },
  "language_info": {
   "codemirror_mode": {
    "name": "ipython",
    "version": 3
   },
   "file_extension": ".py",
   "mimetype": "text/x-python",
   "name": "python",
   "nbconvert_exporter": "python",
   "pygments_lexer": "ipython3",
   "version": "3.8.8"
  }
 },
 "nbformat": 4,
 "nbformat_minor": 5
}
