{
 "cells": [
  {
   "cell_type": "markdown",
   "id": "355aabf7-6d36-463e-8a0d-f312aa28d3f2",
   "metadata": {},
   "source": [
    "---\n",
    "type: GPU, Parallel\n",
    "\n",
    "required_modules:\n",
    "  - numpy\n",
    "  - cuda\n",
    "  - cupy\n",
    "  - pandas\n",
    "---\n"
   ]
  },
  {
   "cell_type": "code",
   "execution_count": null,
   "id": "ca26ac7f-3d97-473f-b335-3495921876d1",
   "metadata": {},
   "outputs": [],
   "source": []
  }
 ],
 "metadata": {
  "kernelspec": {
   "display_name": "Python 3",
   "language": "python",
   "name": "python3"
  },
  "language_info": {
   "codemirror_mode": {
    "name": "ipython",
    "version": 3
   },
   "file_extension": ".py",
   "mimetype": "text/x-python",
   "name": "python",
   "nbconvert_exporter": "python",
   "pygments_lexer": "ipython3",
   "version": "3.8.8"
  }
 },
 "nbformat": 4,
 "nbformat_minor": 5
}
