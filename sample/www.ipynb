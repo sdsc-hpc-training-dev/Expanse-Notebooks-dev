{
 "cells": [
  {
   "cell_type": "markdown",
   "id": "53a7a42b-525c-4fe0-bf18-81f539ad1250",
   "metadata": {},
   "source": [
    "---\n",
    "type: GPU, Serial\n",
    "required_modules:\n",
    "  - git\n",
    "---"
   ]
  },
  {
   "cell_type": "code",
   "execution_count": null,
   "id": "acea497d-223a-4f9e-82b9-5bc54f6881db",
   "metadata": {},
   "outputs": [],
   "source": []
  }
 ],
 "metadata": {
  "kernelspec": {
   "display_name": "Python 3",
   "language": "python",
   "name": "python3"
  },
  "language_info": {
   "codemirror_mode": {
    "name": "ipython",
    "version": 3
   },
   "file_extension": ".py",
   "mimetype": "text/x-python",
   "name": "python",
   "nbconvert_exporter": "python",
   "pygments_lexer": "ipython3",
   "version": "3.8.8"
  }
 },
 "nbformat": 4,
 "nbformat_minor": 5
}
