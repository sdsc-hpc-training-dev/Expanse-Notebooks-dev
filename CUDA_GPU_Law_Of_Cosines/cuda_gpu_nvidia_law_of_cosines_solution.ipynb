{
 "cells": [
  {
   "cell_type": "markdown",
   "metadata": {},
   "source": [
    "---\n",
    "type: GPU, Parallel\n",
    "\n",
    "required_modules:\n",
    "  - numba\n",
    "  - math\n",
    "  - numpy\n",
    "  - vectorize\n",
    "  - cuda\n",
    "---"
   ]
  },
  {
   "cell_type": "markdown",
   "metadata": {},
   "source": [
    "## Source Information\n",
    "---\n",
    "**Created by**: Abe Stern\n",
    "\n",
    "**Updated by**: October 01, 2024 by Gloria Seo\n",
    "\n",
    "**Resources**: http://numba.pydata.org/\n",
    "\n",
    "---"
   ]
  },
  {
   "cell_type": "markdown",
   "metadata": {},
   "source": [
    "## Goal\n",
    "The notebook aims to demonstrate how to use Numba's vectorization feature to efficiently compute angles in a triangle using the law of cosines, leveraging GPU acceleration."
   ]
  },
  {
   "cell_type": "markdown",
   "metadata": {},
   "source": [
    "# CUDA Ufuncs\n",
    "\n",
    "Numba’s vectorize allows Python functions taking scalar input arguments to be used as NumPy ufuncs. Using the `vectorize()` decorator, Numba can compile a pure Python function into a ufunc that operates over NumPy arrays and executes on the GPU.\n",
    "\n",
    "Using vectorize(), you write your function as operating over input scalars, rather than arrays. Numba will generate the surrounding loop (or kernel) allowing efficient iteration over the actual inputs."
   ]
  },
  {
   "cell_type": "markdown",
   "metadata": {},
   "source": [
    "### Law of Cosines\n",
    "\n",
    "For a triangle with sides $a$, $b$, and $c$ the law of cosines dictates that\n",
    "\n",
    "$$\n",
    "\\frac{a^2+b^2-c^2}{2ab}=\\cos C\n",
    "$$\n",
    "\n",
    "### Numba Ufunc Kernel\n",
    "\n",
    "Below, we define the GPU-accelerated eager, or decoration-time, compilation vectorized function by providing signatures to the decorator and specifying `target='cuda'`.  GPU-targeted Ufuncs require signatures. "
   ]
  },
  {
   "cell_type": "markdown",
   "metadata": {},
   "source": [
    "## Defining Our Numba Ufunc Kernel\n",
    "\n",
    "Now, let’s define a GPU-accelerated function to compute our angles. We do this using the @vectorize decorator and by specifying target='cuda'. Here’s how we set it up:"
   ]
  },
  {
   "cell_type": "code",
   "execution_count": 3,
   "metadata": {},
   "outputs": [],
   "source": [
    "@vectorize(['float32(float32, float32, float32)',\n",
    "            'float64(float64, float64, float64)'],\n",
    "           target='cuda')\n",
    "def compute_angle(a, b, c):\n",
    "    cos_c = ( a**2 + b**2 - c**2 ) / ( 2.0 * a * b )\n",
    "    return math.acos(cos_c)"
   ]
  },
  {
   "cell_type": "markdown",
   "metadata": {},
   "source": [
    "## Required Modules for the Jupyter Notebook\n",
    "\n",
    "Before running the notebook, make sure the following modules are loaded.\n",
    "\n",
    "**Module:numba, math, numpy, cuda, vectorize**"
   ]
  },
  {
   "cell_type": "code",
   "execution_count": 2,
   "metadata": {},
   "outputs": [],
   "source": [
    "import numba\n",
    "from numba import vectorize,cuda\n",
    "import numpy as np\n",
    "import math"
   ]
  },
  {
   "cell_type": "markdown",
   "metadata": {},
   "source": [
    "### Prepare Data"
   ]
  },
  {
   "cell_type": "markdown",
   "metadata": {},
   "source": [
    "Next, we need to prepare our input data. We’re going to create large arrays of random numbers to represent the sides of our triangles. Let’s set this up!"
   ]
  },
  {
   "cell_type": "code",
   "execution_count": 4,
   "metadata": {},
   "outputs": [],
   "source": [
    "N = int(5e8)\n",
    "dtype = np.float32\n",
    "\n",
    "# prepare the input\n",
    "a = np.array(np.random.sample(N)+3, dtype=dtype)\n",
    "b = np.array(np.random.sample(N)+4, dtype=dtype)\n",
    "c = np.array(np.random.sample(N)+5, dtype=dtype)"
   ]
  },
  {
   "cell_type": "markdown",
   "metadata": {},
   "source": [
    "### Call GPU Ufunc\n",
    "\n",
    "Now, let’s call our GPU function just like we would with a regular NumPy function. Numba handles all the complex CUDA configurations for us automatically. "
   ]
  },
  {
   "cell_type": "code",
   "execution_count": 5,
   "metadata": {},
   "outputs": [
    {
     "name": "stdout",
     "output_type": "stream",
     "text": [
      "4 s ± 73.4 ms per loop (mean ± std. dev. of 5 runs, 2 loops each)\n"
     ]
    },
    {
     "data": {
      "text/plain": [
       "<TimeitResult : 4 s ± 73.4 ms per loop (mean ± std. dev. of 5 runs, 2 loops each)>"
      ]
     },
     "execution_count": 5,
     "metadata": {},
     "output_type": "execute_result"
    }
   ],
   "source": [
    "%%timeit -n2 -r5 -o\n",
    "C_GPU = compute_angle(a, b, c)"
   ]
  },
  {
   "cell_type": "markdown",
   "metadata": {},
   "source": [
    "You’ll see that our GPU computation time."
   ]
  },
  {
   "cell_type": "markdown",
   "metadata": {},
   "source": [
    "### Numpy Version\n",
    "To see how our GPU performance stacks up, we’ll also compute the angles using NumPy. This will help us measure the speedup we gain from using the GPU:"
   ]
  },
  {
   "cell_type": "code",
   "execution_count": 7,
   "metadata": {},
   "outputs": [
    {
     "name": "stdout",
     "output_type": "stream",
     "text": [
      "6.23 s ± 0 ns per loop (mean ± std. dev. of 1 run, 1 loop each)\n"
     ]
    },
    {
     "data": {
      "text/plain": [
       "<TimeitResult : 6.23 s ± 0 ns per loop (mean ± std. dev. of 1 run, 1 loop each)>"
      ]
     },
     "execution_count": 7,
     "metadata": {},
     "output_type": "execute_result"
    }
   ],
   "source": [
    "%%timeit -n1 -r1 -o\n",
    "# CPU version\n",
    "C_CPU = np.arccos(( a**2 + b**2 - c**2 ) / ( 2.0 * a * b ))"
   ]
  },
  {
   "cell_type": "code",
   "execution_count": 8,
   "metadata": {},
   "outputs": [],
   "source": [
    "# store the timing result\n",
    "CPU_TIMING = _"
   ]
  },
  {
   "cell_type": "markdown",
   "metadata": {},
   "source": [
    "### Computing Speedup Factor"
   ]
  },
  {
   "cell_type": "code",
   "execution_count": 9,
   "metadata": {},
   "outputs": [
    {
     "name": "stdout",
     "output_type": "stream",
     "text": [
      "Speedup factor:  1.5568690690652713 X\n"
     ]
    }
   ],
   "source": [
    "print('Speedup factor: ', CPU_TIMING.average / GPU_TIMING.average, 'X')"
   ]
  },
  {
   "cell_type": "markdown",
   "metadata": {},
   "source": [
    "## Checking Results\n",
    "To ensure our results are consistent between the CPU and GPU calculations, we can recompute the values and check for agreement. Here’s how we do that:"
   ]
  },
  {
   "cell_type": "code",
   "execution_count": 10,
   "metadata": {},
   "outputs": [
    {
     "name": "stdout",
     "output_type": "stream",
     "text": [
      "results agree\n"
     ]
    }
   ],
   "source": [
    "# recompute (workaround for timeit bug)\n",
    "C_GPU = compute_angle(a, b, c)\n",
    "C_CPU = np.arccos(( a**2 + b**2 - c**2 ) / ( 2.0 * a * b ))\n",
    "\n",
    "tol=1e-5\n",
    "if np.array(np.abs(C_CPU-C_GPU)<tol).sum()==N:\n",
    "    print('results agree')"
   ]
  },
  {
   "cell_type": "markdown",
   "metadata": {},
   "source": [
    "## Submit Ticket\n",
    "If you find anything that needs to be changed, edited, or if you would like to provide feedback or contribute to the notebook, please submit a ticket by contacting us at:\n",
    "\n",
    "Email: consult@sdsc.edu\n",
    "\n",
    "We appreciate your input and will review your suggestions promptly!\n"
   ]
  },
  {
   "cell_type": "code",
   "execution_count": null,
   "metadata": {},
   "outputs": [],
   "source": []
  }
 ],
 "metadata": {
  "kernelspec": {
   "display_name": "Python 3",
   "language": "python",
   "name": "python3"
  },
  "language_info": {
   "codemirror_mode": {
    "name": "ipython",
    "version": 3
   },
   "file_extension": ".py",
   "mimetype": "text/x-python",
   "name": "python",
   "nbconvert_exporter": "python",
   "pygments_lexer": "ipython3",
   "version": "3.8.8"
  }
 },
 "nbformat": 4,
 "nbformat_minor": 4
}
