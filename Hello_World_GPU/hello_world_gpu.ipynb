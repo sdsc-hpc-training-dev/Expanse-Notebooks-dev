{
 "cells": [
  {
   "cell_type": "markdown",
   "metadata": {},
   "source": [
    "---\n",
    "type: GPU, Serial\n",
    "\n",
    "---"
   ]
  },
  {
   "cell_type": "markdown",
   "metadata": {},
   "source": [
    "## Source Information\n",
    "---\n",
    "**Author**:\n",
    "\n",
    "**Last Updated Date**: October 25, 2024 updated by Gloria Seo\n",
    "\n",
    "**Resources**: \n",
    "\n",
    "---"
   ]
  },
  {
   "cell_type": "markdown",
   "metadata": {},
   "source": [
    "# Goal\n",
    "This notebook introduces how to print \"Hello, World!\" on a GPU. It also covers basic Python functions, printing host information, and checking CPU/GPU details."
   ]
  },
  {
   "cell_type": "markdown",
   "metadata": {},
   "source": [
    "## Required Modules for the Jupyter Notebook\n",
    "\n",
    "Before running the notebook, we need to load the following modules.\n",
    "\n",
    "**Module: hello** \n"
   ]
  },
  {
   "cell_type": "markdown",
   "metadata": {},
   "source": [
    "# Print 'Hello, World!' using GPU\n",
    "To display a message in Python, we use the **print()** function. For example, lets print out **Hello world!!!** using print() function.."
   ]
  },
  {
   "cell_type": "code",
   "execution_count": 1,
   "metadata": {},
   "outputs": [
    {
     "name": "stdout",
     "output_type": "stream",
     "text": [
      "Hello world GPU!!!!\n"
     ]
    }
   ],
   "source": [
    "print('Hello world GPU!!!!')"
   ]
  },
  {
   "cell_type": "markdown",
   "metadata": {},
   "source": [
    "# Defining a Function in Python\n",
    "Next, we use the def keyword to define a function. Here's an example of a function that takes a name as an argument and prints it:"
   ]
  },
  {
   "cell_type": "code",
   "execution_count": 2,
   "metadata": {},
   "outputs": [],
   "source": [
    "# Import hello module\n",
    "import hello\n",
    "\n",
    "# Define a local function\n",
    "def world2(name):\n",
    "    print(name)\n",
    "\n"
   ]
  },
  {
   "cell_type": "code",
   "execution_count": 3,
   "metadata": {},
   "outputs": [
    {
     "name": "stdout",
     "output_type": "stream",
     "text": [
      "mary\n"
     ]
    }
   ],
   "source": [
    "# Call function\n",
    "world2(\"mary\") "
   ]
  },
  {
   "cell_type": "markdown",
   "metadata": {},
   "source": [
    "# Using a Module Function\n",
    "You can also call functions from imported modules. For example:"
   ]
  },
  {
   "cell_type": "code",
   "execution_count": 4,
   "metadata": {},
   "outputs": [
    {
     "name": "stdout",
     "output_type": "stream",
     "text": [
      "Greetings, good times\n"
     ]
    }
   ],
   "source": [
    "hello.greeting(\"good times\")"
   ]
  },
  {
   "cell_type": "code",
   "execution_count": 5,
   "metadata": {},
   "outputs": [
    {
     "name": "stdout",
     "output_type": "stream",
     "text": [
      "Hello, World.\n"
     ]
    }
   ],
   "source": [
    "hello.world(\"World.\")"
   ]
  },
  {
   "cell_type": "markdown",
   "metadata": {},
   "source": [
    "## Print out host information"
   ]
  },
  {
   "cell_type": "code",
   "execution_count": 7,
   "metadata": {},
   "outputs": [
    {
     "name": "stdout",
     "output_type": "stream",
     "text": [
      "exp-1-48\n"
     ]
    }
   ],
   "source": [
    "!hostname"
   ]
  },
  {
   "cell_type": "markdown",
   "metadata": {},
   "source": [
    "# Check the CPU information"
   ]
  },
  {
   "cell_type": "code",
   "execution_count": 1,
   "metadata": {},
   "outputs": [
    {
     "name": "stdout",
     "output_type": "stream",
     "text": [
      "Architecture:        x86_64\n",
      "CPU op-mode(s):      32-bit, 64-bit\n",
      "Byte Order:          Little Endian\n",
      "CPU(s):              128\n",
      "On-line CPU(s) list: 0-127\n",
      "Thread(s) per core:  1\n",
      "Core(s) per socket:  64\n",
      "Socket(s):           2\n",
      "NUMA node(s):        8\n",
      "Vendor ID:           AuthenticAMD\n",
      "CPU family:          23\n",
      "Model:               49\n",
      "Model name:          AMD EPYC 7742 64-Core Processor\n",
      "Stepping:            0\n",
      "CPU MHz:             2245.920\n",
      "BogoMIPS:            4491.84\n",
      "Virtualization:      AMD-V\n",
      "L1d cache:           32K\n",
      "L1i cache:           32K\n",
      "L2 cache:            512K\n",
      "L3 cache:            16384K\n",
      "NUMA node0 CPU(s):   0-15\n",
      "NUMA node1 CPU(s):   16-31\n",
      "NUMA node2 CPU(s):   32-47\n",
      "NUMA node3 CPU(s):   48-63\n",
      "NUMA node4 CPU(s):   64-79\n",
      "NUMA node5 CPU(s):   80-95\n",
      "NUMA node6 CPU(s):   96-111\n",
      "NUMA node7 CPU(s):   112-127\n",
      "Flags:               fpu vme de pse tsc msr pae mce cx8 apic sep mtrr pge mca cmov pat pse36 clflush mmx fxsr sse sse2 ht syscall nx mmxext fxsr_opt pdpe1gb rdtscp lm constant_tsc rep_good nopl nonstop_tsc cpuid extd_apicid aperfmperf pni pclmulqdq monitor ssse3 fma cx16 sse4_1 sse4_2 x2apic movbe popcnt aes xsave avx f16c rdrand lahf_lm cmp_legacy svm extapic cr8_legacy abm sse4a misalignsse 3dnowprefetch osvw ibs skinit wdt tce topoext perfctr_core perfctr_nb bpext perfctr_llc mwaitx cpb cat_l3 cdp_l3 hw_pstate ssbd mba ibrs ibpb stibp vmmcall fsgsbase bmi1 avx2 smep bmi2 cqm rdt_a rdseed adx smap clflushopt clwb sha_ni xsaveopt xsavec xgetbv1 xsaves cqm_llc cqm_occup_llc cqm_mbm_total cqm_mbm_local clzero irperf xsaveerptr wbnoinvd amd_ppin arat npt lbrv svm_lock nrip_save tsc_scale vmcb_clean flushbyasid decodeassists pausefilter pfthreshold avic v_vmsave_vmload vgif v_spec_ctrl umip rdpid overflow_recov succor smca sme sev sev_es\n"
     ]
    }
   ],
   "source": [
    "!lscpu "
   ]
  },
  {
   "cell_type": "markdown",
   "metadata": {},
   "source": [
    "# Check to see if system is GPU:"
   ]
  },
  {
   "cell_type": "code",
   "execution_count": 9,
   "metadata": {},
   "outputs": [
    {
     "name": "stdout",
     "output_type": "stream",
     "text": [
      "NVIDIA-SMI has failed because it couldn't communicate with the NVIDIA driver. Make sure that the latest NVIDIA driver is installed and running.\n",
      "\n"
     ]
    }
   ],
   "source": [
    "!nvidia-smi"
   ]
  },
  {
   "cell_type": "markdown",
   "metadata": {},
   "source": [
    "if you see:  /bin/bash: nvidia-smi: command not found, the system is not GPU"
   ]
  },
  {
   "cell_type": "markdown",
   "metadata": {},
   "source": [
    "## Resources\n",
    "---\n",
    "\n",
    "**Last Updated Date**: October 01, 2024\n",
    "\n",
    "---"
   ]
  },
  {
   "cell_type": "markdown",
   "metadata": {},
   "source": [
    "## Submit Ticket\n",
    "If you find anything that needs to be changed, edited, or if you would like to provide feedback or contribute to the notebook, please submit a ticket by contacting us at:\n",
    "\n",
    "Email: consult@sdsc.edu\n",
    "\n",
    "We appreciate your input and will review your suggestions promptly!"
   ]
  },
  {
   "cell_type": "code",
   "execution_count": null,
   "metadata": {},
   "outputs": [],
   "source": []
  }
 ],
 "metadata": {
  "kernelspec": {
   "display_name": "Python 3",
   "language": "python",
   "name": "python3"
  },
  "language_info": {
   "codemirror_mode": {
    "name": "ipython",
    "version": 3
   },
   "file_extension": ".py",
   "mimetype": "text/x-python",
   "name": "python",
   "nbconvert_exporter": "python",
   "pygments_lexer": "ipython3",
   "version": "3.8.8"
  }
 },
 "nbformat": 4,
 "nbformat_minor": 4
}
